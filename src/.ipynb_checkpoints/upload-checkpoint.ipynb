{
 "cells": [
  {
   "cell_type": "code",
   "execution_count": 1,
   "metadata": {},
   "outputs": [
    {
     "ename": "ModuleNotFoundError",
     "evalue": "No module named 'main'",
     "output_type": "error",
     "traceback": [
      "\u001b[1;31m---------------------------------------------------------------------------\u001b[0m",
      "\u001b[1;31mModuleNotFoundError\u001b[0m                       Traceback (most recent call last)",
      "\u001b[1;32m<ipython-input-1-240893fd2d7c>\u001b[0m in \u001b[0;36m<module>\u001b[1;34m\u001b[0m\n\u001b[0;32m      3\u001b[0m \u001b[1;32mfrom\u001b[0m \u001b[0mflask\u001b[0m \u001b[1;32mimport\u001b[0m \u001b[0mFlask\u001b[0m\u001b[1;33m,\u001b[0m \u001b[0mrequest\u001b[0m\u001b[1;33m,\u001b[0m \u001b[0mrender_template\u001b[0m\u001b[1;33m,\u001b[0m \u001b[0msend_from_directory\u001b[0m\u001b[1;33m\u001b[0m\u001b[1;33m\u001b[0m\u001b[0m\n\u001b[0;32m      4\u001b[0m \u001b[1;33m\u001b[0m\u001b[0m\n\u001b[1;32m----> 5\u001b[1;33m \u001b[1;32mfrom\u001b[0m \u001b[0mmain\u001b[0m \u001b[1;32mimport\u001b[0m \u001b[0minfer_by_web\u001b[0m\u001b[1;33m\u001b[0m\u001b[1;33m\u001b[0m\u001b[0m\n\u001b[0m\u001b[0;32m      6\u001b[0m \u001b[1;33m\u001b[0m\u001b[0m\n\u001b[0;32m      7\u001b[0m \u001b[0m__author__\u001b[0m \u001b[1;33m=\u001b[0m \u001b[1;34m'Susan'\u001b[0m\u001b[1;33m\u001b[0m\u001b[1;33m\u001b[0m\u001b[0m\n",
      "\u001b[1;31mModuleNotFoundError\u001b[0m: No module named 'main'"
     ]
    }
   ],
   "source": [
    "import os\n",
    "from datetime import datetime\n",
    "from flask import Flask, request, render_template, send_from_directory\n",
    "\n",
    "from main import infer_by_web\n",
    "\n",
    "__author__ = 'Susan'\n",
    "\n",
    "app = Flask(__name__)\n",
    "\n",
    "APP_ROOT = os.path.dirname(os.path.abspath(__file__)) # project abs path\n",
    "\n",
    "\n",
    "\n",
    "@app.route(\"/\")\n",
    "def index():\n",
    "    return render_template(\"index.html\")\n",
    "\n",
    "\n",
    "@app.route(\"/upload_page\", methods=[\"GET\"])\n",
    "def upload_page():\n",
    "    return render_template(\"upload.html\")\n",
    "\n",
    "\n",
    "@app.route(\"/upload\", methods=[\"POST\"])\n",
    "def upload():\n",
    "    # folder_name = request.form['uploads']\n",
    "    target = os.path.join(APP_ROOT, 'static/')\n",
    "    print(target)\n",
    "    if not os.path.isdir(target):\n",
    "        os.mkdir(target)\n",
    "    print(request.files.getlist(\"file\"))\n",
    "    option = request.form.get('optionsPrediction')\n",
    "    print(\"Selected Option:: {}\".format(option))\n",
    "    for upload in request.files.getlist(\"file\"):\n",
    "        print(upload)\n",
    "        print(\"{} is the file name\".format(upload.filename))\n",
    "        filename = upload.filename\n",
    "        # This is to verify files are supported\n",
    "        ext = os.path.splitext(filename)[1]\n",
    "        if (ext == \".jpg\") or (ext == \".png\"):\n",
    "            print(\"File supported moving on...\")\n",
    "        else:\n",
    "            render_template(\"Error.html\", message=\"Files uploaded are not supported...\")\n",
    "        savefname = datetime.now().strftime('%Y-%m-%d_%H_%M_%S') + \".\"+ext\n",
    "        destination = \"/\".join([target, savefname])\n",
    "        print(\"Accept incoming file:\", filename)\n",
    "        print(\"Save it to:\", destination)\n",
    "        upload.save(destination)\n",
    "        result = predict_image(destination, option)\n",
    "        print(\"Prediction: \", result)\n",
    "    # return send_from_directory(\"images\", filename, as_attachment=True)\n",
    "    return render_template(\"complete.html\", image_name=savefname, result=result)\n",
    "\n",
    "\n",
    "def predict_image(path, type):\n",
    "    print(path)\n",
    "    return infer_by_web(path, type)\n",
    "\n",
    "\n",
    "if __name__ == \"__main__\":\n",
    "    app.run(port=4555, debug=True)"
   ]
  },
  {
   "cell_type": "code",
   "execution_count": null,
   "metadata": {},
   "outputs": [],
   "source": []
  }
 ],
 "metadata": {
  "kernelspec": {
   "display_name": "Python 3",
   "language": "python",
   "name": "python3"
  },
  "language_info": {
   "codemirror_mode": {
    "name": "ipython",
    "version": 3
   },
   "file_extension": ".py",
   "mimetype": "text/x-python",
   "name": "python",
   "nbconvert_exporter": "python",
   "pygments_lexer": "ipython3",
   "version": "3.8.5"
  }
 },
 "nbformat": 4,
 "nbformat_minor": 4
}
